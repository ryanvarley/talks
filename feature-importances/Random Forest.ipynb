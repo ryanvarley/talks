{
 "cells": [
  {
   "cell_type": "code",
   "execution_count": 1,
   "metadata": {
    "collapsed": true
   },
   "outputs": [],
   "source": [
    "%matplotlib inline"
   ]
  },
  {
   "cell_type": "code",
   "execution_count": 50,
   "metadata": {
    "collapsed": true
   },
   "outputs": [],
   "source": [
    "import numpy as np\n",
    "import matplotlib.pyplot as plt\n",
    "import seaborn\n",
    "\n",
    "from sklearn.datasets import make_classification\n",
    "from sklearn.ensemble import RandomForestClassifier\n",
    "from sklearn.metrics import roc_auc_score\n",
    "from sklearn.model_selection import train_test_split\n",
    "\n",
    "from eli5.sklearn import PermutationImportance"
   ]
  },
  {
   "cell_type": "code",
   "execution_count": 31,
   "metadata": {
    "collapsed": true
   },
   "outputs": [],
   "source": [
    "def plot_feature_importances(importances, std, color='r', title='', labels=None):\n",
    "#     indices = np.argsort(importances)[::-1]\n",
    "    indices = np.arange(X.shape[1])\n",
    "    \n",
    "    if labels is None:\n",
    "        labels = indices\n",
    "\n",
    "    plt.figure()\n",
    "    plt.title(title)\n",
    "    plt.bar(range(X.shape[1]), importances[indices],\n",
    "           color=color, yerr=std[indices], align=\"center\")\n",
    "    plt.xticks(range(X.shape[1]), labels, rotation=90)\n",
    "    plt.xlim([-1, X.shape[1]])\n",
    "    plt.show()"
   ]
  },
  {
   "cell_type": "code",
   "execution_count": 57,
   "metadata": {},
   "outputs": [],
   "source": [
    "# Build a classification task using 3 informative features\n",
    "dataset_info = dict(\n",
    "    n_samples=2000,\n",
    "    n_features=10,\n",
    "    n_informative=3,\n",
    "    n_redundant=2,\n",
    "    n_repeated=1,\n",
    "    n_classes=2,\n",
    "    class_sep=0.33,\n",
    "    random_state=1821,\n",
    "    shuffle=False\n",
    ")\n",
    "\n",
    "\n",
    "X, y = make_classification(**dataset_info)\n",
    "\n",
    "labels = (\n",
    "    (['Informative'] * dataset_info['n_informative']) + \n",
    "    (['Redundant'] * dataset_info['n_redundant']) +\n",
    "    (['Repeated'] * dataset_info['n_repeated'])\n",
    ")\n",
    "labels += ['Random'] * (dataset_info['n_features'] - len(labels))\n",
    "\n",
    "X_train, X_test, y_train, y_test = train_test_split(X, y, test_size=0.33, random_state=2244)"
   ]
  },
  {
   "cell_type": "code",
   "execution_count": 51,
   "metadata": {},
   "outputs": [
    {
     "data": {
      "text/plain": [
       "0.75165991679753141"
      ]
     },
     "execution_count": 51,
     "metadata": {},
     "output_type": "execute_result"
    }
   ],
   "source": [
    "forest = RandomForestClassifier(n_estimators=500,\n",
    "                                random_state=0,\n",
    "                                min_weight_fraction_leaf=0.005\n",
    "                               )\n",
    "\n",
    "forest.fit(X_train, y_train)\n",
    "roc_auc_score(y_test, forest.predict(X_test))"
   ]
  },
  {
   "cell_type": "code",
   "execution_count": 47,
   "metadata": {
    "scrolled": true
   },
   "outputs": [
    {
     "data": {
      "image/png": "[encoded data removed]",
      "text/plain": [
       "<matplotlib.figure.Figure at 0x11be720f0>"
      ]
     },
     "metadata": {},
     "output_type": "display_data"
    }
   ],
   "source": [
    "importances = forest.feature_importances_\n",
    "std = np.std([tree.feature_importances_ for tree in forest.estimators_],\n",
    "             axis=0)\n",
    "\n",
    "plot_feature_importances(importances, std, color='r', title='Gini', labels=labels)"
   ]
  },
  {
   "cell_type": "code",
   "execution_count": 48,
   "metadata": {},
   "outputs": [
    {
     "data": {
      "image/png": "[encoded data removed]",
      "text/plain": [
       "<matplotlib.figure.Figure at 0x1188de390>"
      ]
     },
     "metadata": {},
     "output_type": "display_data"
    }
   ],
   "source": [
    "perm = PermutationImportance(forest).fit(X_test, y_test)\n",
    "plot_feature_importances(perm.feature_importances_, perm.feature_importances_std_, color='b', \n",
    "                         title='Permutation', labels=labels)"
   ]
  },
  {
   "cell_type": "markdown",
   "metadata": {},
   "source": [
    "This plot with a 1820 and 1821 split is also useful, it shows much more varied output"
   ]
  },
  {
   "cell_type": "markdown",
   "metadata": {},
   "source": [
    "## What about lots of random variables?"
   ]
  },
  {
   "cell_type": "code",
   "execution_count": 118,
   "metadata": {},
   "outputs": [],
   "source": [
    "y = np.zeros(2000)\n",
    "y[1000:] = 1\n",
    "\n",
    "X = np.zeros((2000, 5))"
   ]
  },
  {
   "cell_type": "code",
   "execution_count": 124,
   "metadata": {},
   "outputs": [],
   "source": [
    "X[:, 0] = np.random.rand(2000)\n",
    "X[:, 1] = np.random.randint(0, 100, size=2000)\n",
    "X[:, 2] = np.random.randint(0, 10, size=2000)\n",
    "X[:, 3] = np.random.randint(0, 5, size=2000)\n",
    "X[:, 4] = np.random.randint(0, 2, size=2000)\n",
    "\n",
    "labels = ['inf', '100', '10', '5', '2']"
   ]
  },
  {
   "cell_type": "code",
   "execution_count": 125,
   "metadata": {
    "collapsed": true
   },
   "outputs": [],
   "source": [
    "X_train, X_test, y_train, y_test = train_test_split(X, y, test_size=0.33, random_state=2244)"
   ]
  },
  {
   "cell_type": "code",
   "execution_count": 126,
   "metadata": {},
   "outputs": [
    {
     "data": {
      "text/plain": [
       "0.53235229276895946"
      ]
     },
     "execution_count": 126,
     "metadata": {},
     "output_type": "execute_result"
    }
   ],
   "source": [
    "forest = RandomForestClassifier(n_estimators=500,\n",
    "                                random_state=0,\n",
    "                                min_weight_fraction_leaf=0.005\n",
    "                               )\n",
    "\n",
    "forest.fit(X_train, y_train)\n",
    "roc_auc_score(y_test, forest.predict(X_test))"
   ]
  },
  {
   "cell_type": "code",
   "execution_count": 127,
   "metadata": {},
   "outputs": [
    {
     "data": {
      "image/png": "[encoded data removed]",
      "text/plain": [
       "<matplotlib.figure.Figure at 0x11c340b70>"
      ]
     },
     "metadata": {},
     "output_type": "display_data"
    }
   ],
   "source": [
    "importances = forest.feature_importances_\n",
    "std = np.std([tree.feature_importances_ for tree in forest.estimators_],\n",
    "             axis=0)\n",
    "\n",
    "plot_feature_importances(importances, std, color='r', title='Gini', labels=labels)"
   ]
  },
  {
   "cell_type": "code",
   "execution_count": 128,
   "metadata": {},
   "outputs": [
    {
     "data": {
      "image/png": "[encoded data removed]",
      "text/plain": [
       "<matplotlib.figure.Figure at 0x11c2c4470>"
      ]
     },
     "metadata": {},
     "output_type": "display_data"
    }
   ],
   "source": [
    "perm = PermutationImportance(forest).fit(X_test, y_test)\n",
    "plot_feature_importances(perm.feature_importances_, perm.feature_importances_std_, color='b', \n",
    "                         title='Permutation', labels=labels)"
   ]
  },
  {
   "cell_type": "code",
   "execution_count": null,
   "metadata": {
    "collapsed": true
   },
   "outputs": [],
   "source": []
  }
 ],
 "metadata": {
  "kernelspec": {
   "display_name": "Python 3",
   "language": "python",
   "name": "python3"
  },
  "language_info": {
   "codemirror_mode": {
    "name": "ipython",
    "version": 3
   },
   "file_extension": ".py",
   "mimetype": "text/x-python",
   "name": "python",
   "nbconvert_exporter": "python",
   "pygments_lexer": "ipython3",
   "version": "3.6.2"
  }
 },
 "nbformat": 4,
 "nbformat_minor": 2
}
